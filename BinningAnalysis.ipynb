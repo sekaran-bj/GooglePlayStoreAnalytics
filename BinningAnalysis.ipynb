{
 "cells": [
  {
   "cell_type": "code",
   "execution_count": 167,
   "metadata": {
    "collapsed": true
   },
   "outputs": [],
   "source": [
    "# Load Required Libraries\n",
    "%matplotlib inline \n",
    "import matplotlib.pyplot as plt\n",
    "import pandas as pd \n",
    "import numpy as np \n",
    "\n",
    "import seaborn as sns   # Heatmap plot\n",
    "from sklearn.preprocessing import LabelEncoder\n",
    "from sklearn.preprocessing import OneHotEncoder\n",
    "\n",
    "# Algorithm Models to import\n",
    "from sklearn.model_selection import train_test_split\n",
    "from sklearn.linear_model import LogisticRegression\n",
    "from sklearn.ensemble import RandomForestClassifier\n",
    "from sklearn.preprocessing import MinMaxScaler\n",
    "\n",
    "# All performance Metrics\n",
    "from sklearn.metrics import roc_auc_score,roc_curve\n",
    "from sklearn.metrics import accuracy_score\n",
    "from sklearn.metrics import recall_score\n",
    "from sklearn.metrics import precision_score\n",
    "from sklearn.metrics import f1_score\n",
    "from sklearn.metrics import average_precision_score\n",
    "from sklearn.metrics import precision_recall_curve\n",
    "from imblearn.over_sampling import SMOTE\n"
   ]
  },
  {
   "cell_type": "code",
   "execution_count": 168,
   "metadata": {
    "collapsed": true
   },
   "outputs": [],
   "source": [
    "# Get Error Type\n",
    "def get_error_type(pred, label):\n",
    "    # return the type of error: tp,fp,tn,fn\n",
    "    if pred == label:\n",
    "        return \"tp\" if pred == 1 else \"tn\"\n",
    "    return \"fp\" if pred == 1 else \"fn\"  \n",
    "\n",
    "# Custom function to get confusion Matrix     \n",
    "def get_custom_confusionMatrix(predicted, truelabel):\n",
    "    confusion_mat = np.zeros((2, 2))\n",
    "    \n",
    "    for k in range(0,len(predicted)):\n",
    "        val = get_error_type(predicted[k], truelabel[k])\n",
    "        if val == \"tp\":     \n",
    "            confusion_mat[0][0] = confusion_mat[0][0] + 1\n",
    "        elif val == \"fp\":     \n",
    "            confusion_mat[0][1] = confusion_mat[0][1] + 1\n",
    "        elif val == \"fn\":         \n",
    "            confusion_mat[1][0] = confusion_mat[1][0] + 1\n",
    "        else:\n",
    "            confusion_mat[1][1] = confusion_mat[1][1] + 1\n",
    "            \n",
    "    return(confusion_mat)             "
   ]
  },
  {
   "cell_type": "code",
   "execution_count": 169,
   "metadata": {
    "collapsed": false
   },
   "outputs": [
    {
     "data": {
      "text/html": [
       "<div>\n",
       "<table border=\"1\" class=\"dataframe\">\n",
       "  <thead>\n",
       "    <tr style=\"text-align: right;\">\n",
       "      <th></th>\n",
       "      <th>App</th>\n",
       "      <th>Category</th>\n",
       "      <th>Rating</th>\n",
       "      <th>Reviews</th>\n",
       "      <th>Size</th>\n",
       "      <th>Installs</th>\n",
       "      <th>Type</th>\n",
       "      <th>Price</th>\n",
       "    </tr>\n",
       "  </thead>\n",
       "  <tbody>\n",
       "    <tr>\n",
       "      <th>0</th>\n",
       "      <td>Photo_Editor_Candy_Camera_Grid_ScrapBook</td>\n",
       "      <td>ART_AND_DESIGN</td>\n",
       "      <td>4.1</td>\n",
       "      <td>2.201397</td>\n",
       "      <td>19.0</td>\n",
       "      <td>4.00000</td>\n",
       "      <td>Free</td>\n",
       "      <td>0.0</td>\n",
       "    </tr>\n",
       "    <tr>\n",
       "      <th>1</th>\n",
       "      <td>Coloring_book_moana</td>\n",
       "      <td>ART_AND_DESIGN</td>\n",
       "      <td>3.9</td>\n",
       "      <td>2.985426</td>\n",
       "      <td>14.0</td>\n",
       "      <td>5.69897</td>\n",
       "      <td>Free</td>\n",
       "      <td>0.0</td>\n",
       "    </tr>\n",
       "    <tr>\n",
       "      <th>2</th>\n",
       "      <td>U_Launcher_Lite_FREE_Live_Cool_Themes_Hide_Apps</td>\n",
       "      <td>ART_AND_DESIGN</td>\n",
       "      <td>4.7</td>\n",
       "      <td>4.942058</td>\n",
       "      <td>8.7</td>\n",
       "      <td>6.69897</td>\n",
       "      <td>Free</td>\n",
       "      <td>0.0</td>\n",
       "    </tr>\n",
       "    <tr>\n",
       "      <th>3</th>\n",
       "      <td>Sketch_Draw_Paint</td>\n",
       "      <td>ART_AND_DESIGN</td>\n",
       "      <td>4.5</td>\n",
       "      <td>5.333737</td>\n",
       "      <td>25.0</td>\n",
       "      <td>7.69897</td>\n",
       "      <td>Free</td>\n",
       "      <td>0.0</td>\n",
       "    </tr>\n",
       "    <tr>\n",
       "      <th>4</th>\n",
       "      <td>Pixel_Draw_Number_Art_Coloring_Book</td>\n",
       "      <td>ART_AND_DESIGN</td>\n",
       "      <td>4.3</td>\n",
       "      <td>2.985426</td>\n",
       "      <td>2.8</td>\n",
       "      <td>5.00000</td>\n",
       "      <td>Free</td>\n",
       "      <td>0.0</td>\n",
       "    </tr>\n",
       "  </tbody>\n",
       "</table>\n",
       "</div>"
      ],
      "text/plain": [
       "                                               App        Category  Rating  \\\n",
       "0         Photo_Editor_Candy_Camera_Grid_ScrapBook  ART_AND_DESIGN     4.1   \n",
       "1                              Coloring_book_moana  ART_AND_DESIGN     3.9   \n",
       "2  U_Launcher_Lite_FREE_Live_Cool_Themes_Hide_Apps  ART_AND_DESIGN     4.7   \n",
       "3                                Sketch_Draw_Paint  ART_AND_DESIGN     4.5   \n",
       "4              Pixel_Draw_Number_Art_Coloring_Book  ART_AND_DESIGN     4.3   \n",
       "\n",
       "    Reviews  Size  Installs  Type  Price  \n",
       "0  2.201397  19.0   4.00000  Free    0.0  \n",
       "1  2.985426  14.0   5.69897  Free    0.0  \n",
       "2  4.942058   8.7   6.69897  Free    0.0  \n",
       "3  5.333737  25.0   7.69897  Free    0.0  \n",
       "4  2.985426   2.8   5.00000  Free    0.0  "
      ]
     },
     "execution_count": 169,
     "metadata": {},
     "output_type": "execute_result"
    }
   ],
   "source": [
    "# Read Dataset csv file \n",
    "rawdataset = pd.read_excel('Algodevelop\\CleanupAlgoDevData.xlsx', sheetname='Sheet1')\n",
    "\n",
    "rawdataset.head()"
   ]
  },
  {
   "cell_type": "code",
   "execution_count": 170,
   "metadata": {
    "collapsed": false
   },
   "outputs": [
    {
     "name": "stdout",
     "output_type": "stream",
     "text": [
      "(8902, 8)\n",
      "(734, 8)\n"
     ]
    }
   ],
   "source": [
    "# Handle imbalanced data\n",
    "subsetdf_Target0 = rawdataset[rawdataset['Type'] == 'Free']\n",
    "subsetdf_Target1 = rawdataset[rawdataset['Type'] == 'Paid']\n",
    "\n",
    "# Print Lenghts to determine downsampling\n",
    "print(subsetdf_Target0.shape)\n",
    "print(subsetdf_Target1.shape)\n",
    "\n",
    "itemstodrop = 4400\n",
    "indextodrop = np.random.permutation(itemstodrop)\n",
    "subsetdf_Target0 = subsetdf_Target0.drop(subsetdf_Target0.index[indextodrop],axis='rows')\n",
    "frames = [subsetdf_Target0, subsetdf_Target1]\n",
    "subsetdf_NormalizedFinal = pd.concat(frames)"
   ]
  },
  {
   "cell_type": "code",
   "execution_count": 171,
   "metadata": {
    "collapsed": false
   },
   "outputs": [
    {
     "data": {
      "text/plain": [
       "5731                  TOOLS\n",
       "5732          COMMUNICATION\n",
       "5733                 FAMILY\n",
       "5734        PERSONALIZATION\n",
       "5735          VIDEO_PLAYERS\n",
       "5736         FOOD_AND_DRINK\n",
       "5737            PHOTOGRAPHY\n",
       "5738    BOOKS_AND_REFERENCE\n",
       "5740                  TOOLS\n",
       "Name: Category, dtype: object"
      ]
     },
     "execution_count": 171,
     "metadata": {},
     "output_type": "execute_result"
    }
   ],
   "source": [
    "subsetdf_NormalizedFinal['Category'].iloc[1:10]"
   ]
  },
  {
   "cell_type": "code",
   "execution_count": 172,
   "metadata": {
    "collapsed": false
   },
   "outputs": [
    {
     "name": "stderr",
     "output_type": "stream",
     "text": [
      "C:\\Users\\bchandrasekaran\\AppData\\Local\\Continuum\\Anaconda3\\lib\\site-packages\\pandas\\core\\indexing.py:141: SettingWithCopyWarning: \n",
      "A value is trying to be set on a copy of a slice from a DataFrame\n",
      "\n",
      "See the caveats in the documentation: http://pandas.pydata.org/pandas-docs/stable/indexing.html#indexing-view-versus-copy\n",
      "  self._setitem_with_indexer(indexer, value)\n"
     ]
    },
    {
     "data": {
      "text/plain": [
       "Rating       4.137024\n",
       "Reviews      1.479924\n",
       "Size        18.135017\n",
       "Installs     3.804699\n",
       "Price        0.633753\n",
       "dtype: float64"
      ]
     },
     "execution_count": 172,
     "metadata": {},
     "output_type": "execute_result"
    }
   ],
   "source": [
    "# Bin Category of \"Category\"\n",
    "for i in range(0, len(subsetdf_NormalizedFinal)):\n",
    "    if ('FAMILY' in subsetdf_NormalizedFinal['Category'].iloc[i]) or  ('GAME' in subsetdf_NormalizedFinal['Category'].iloc[i]) or ('BUSINESS' in subsetdf_NormalizedFinal['Category'].iloc[i]) or ('PERSONAL' in subsetdf_NormalizedFinal['Category'].iloc[i]) or ('MEDICAL' in subsetdf_NormalizedFinal['Category'].iloc[i]) :\n",
    "        xx = 1\n",
    "    else:\n",
    "        subsetdf_NormalizedFinal['Category'].iloc[i] = \"All OTHER\"\n",
    "\n",
    "subsetdf_NormalizedFinal.mean()        "
   ]
  },
  {
   "cell_type": "code",
   "execution_count": 173,
   "metadata": {
    "collapsed": true
   },
   "outputs": [],
   "source": [
    "# Add Categorization Variables here\n",
    "subsetdf_NormalizedFinal = pd.get_dummies(subsetdf_NormalizedFinal,columns=['Category'])"
   ]
  },
  {
   "cell_type": "code",
   "execution_count": 174,
   "metadata": {
    "collapsed": false
   },
   "outputs": [
    {
     "data": {
      "text/html": [
       "<div>\n",
       "<table border=\"1\" class=\"dataframe\">\n",
       "  <thead>\n",
       "    <tr style=\"text-align: right;\">\n",
       "      <th></th>\n",
       "      <th>Rating</th>\n",
       "      <th>Reviews</th>\n",
       "      <th>Size</th>\n",
       "      <th>Installs</th>\n",
       "      <th>Price</th>\n",
       "      <th>Category_All OTHER</th>\n",
       "      <th>Category_BUSINESS</th>\n",
       "      <th>Category_FAMILY</th>\n",
       "      <th>Category_GAME</th>\n",
       "      <th>Category_MEDICAL</th>\n",
       "      <th>Category_PERSONALIZATION</th>\n",
       "    </tr>\n",
       "  </thead>\n",
       "  <tbody>\n",
       "    <tr>\n",
       "      <th>count</th>\n",
       "      <td>4770.000000</td>\n",
       "      <td>4.770000e+03</td>\n",
       "      <td>4770.000000</td>\n",
       "      <td>4.770000e+03</td>\n",
       "      <td>4770.000000</td>\n",
       "      <td>4770.000000</td>\n",
       "      <td>4770.000000</td>\n",
       "      <td>4770.000000</td>\n",
       "      <td>4770.000000</td>\n",
       "      <td>4770.000000</td>\n",
       "      <td>4770.000000</td>\n",
       "    </tr>\n",
       "    <tr>\n",
       "      <th>mean</th>\n",
       "      <td>4.134273</td>\n",
       "      <td>2.406055e+00</td>\n",
       "      <td>18.564294</td>\n",
       "      <td>4.070573e+00</td>\n",
       "      <td>0.625449</td>\n",
       "      <td>0.512788</td>\n",
       "      <td>0.050734</td>\n",
       "      <td>0.254717</td>\n",
       "      <td>0.110482</td>\n",
       "      <td>0.032285</td>\n",
       "      <td>0.038994</td>\n",
       "    </tr>\n",
       "    <tr>\n",
       "      <th>std</th>\n",
       "      <td>0.572699</td>\n",
       "      <td>1.582758e+00</td>\n",
       "      <td>20.366195</td>\n",
       "      <td>1.626136e+00</td>\n",
       "      <td>2.673604</td>\n",
       "      <td>0.499889</td>\n",
       "      <td>0.219477</td>\n",
       "      <td>0.435748</td>\n",
       "      <td>0.313523</td>\n",
       "      <td>0.176775</td>\n",
       "      <td>0.193600</td>\n",
       "    </tr>\n",
       "    <tr>\n",
       "      <th>min</th>\n",
       "      <td>1.000000</td>\n",
       "      <td>4.342945e-09</td>\n",
       "      <td>0.014000</td>\n",
       "      <td>4.342945e-09</td>\n",
       "      <td>0.000000</td>\n",
       "      <td>0.000000</td>\n",
       "      <td>0.000000</td>\n",
       "      <td>0.000000</td>\n",
       "      <td>0.000000</td>\n",
       "      <td>0.000000</td>\n",
       "      <td>0.000000</td>\n",
       "    </tr>\n",
       "    <tr>\n",
       "      <th>25%</th>\n",
       "      <td>4.000000</td>\n",
       "      <td>1.113943e+00</td>\n",
       "      <td>4.000000</td>\n",
       "      <td>3.000000e+00</td>\n",
       "      <td>0.000000</td>\n",
       "      <td>0.000000</td>\n",
       "      <td>0.000000</td>\n",
       "      <td>0.000000</td>\n",
       "      <td>0.000000</td>\n",
       "      <td>0.000000</td>\n",
       "      <td>0.000000</td>\n",
       "    </tr>\n",
       "    <tr>\n",
       "      <th>50%</th>\n",
       "      <td>4.200000</td>\n",
       "      <td>2.174639e+00</td>\n",
       "      <td>11.000000</td>\n",
       "      <td>4.000000e+00</td>\n",
       "      <td>0.000000</td>\n",
       "      <td>1.000000</td>\n",
       "      <td>0.000000</td>\n",
       "      <td>0.000000</td>\n",
       "      <td>0.000000</td>\n",
       "      <td>0.000000</td>\n",
       "      <td>0.000000</td>\n",
       "    </tr>\n",
       "    <tr>\n",
       "      <th>75%</th>\n",
       "      <td>4.500000</td>\n",
       "      <td>3.574494e+00</td>\n",
       "      <td>26.000000</td>\n",
       "      <td>5.000000e+00</td>\n",
       "      <td>0.000000</td>\n",
       "      <td>1.000000</td>\n",
       "      <td>0.000000</td>\n",
       "      <td>1.000000</td>\n",
       "      <td>0.000000</td>\n",
       "      <td>0.000000</td>\n",
       "      <td>0.000000</td>\n",
       "    </tr>\n",
       "    <tr>\n",
       "      <th>max</th>\n",
       "      <td>5.000000</td>\n",
       "      <td>7.396217e+00</td>\n",
       "      <td>100.000000</td>\n",
       "      <td>8.698970e+00</td>\n",
       "      <td>74.990000</td>\n",
       "      <td>1.000000</td>\n",
       "      <td>1.000000</td>\n",
       "      <td>1.000000</td>\n",
       "      <td>1.000000</td>\n",
       "      <td>1.000000</td>\n",
       "      <td>1.000000</td>\n",
       "    </tr>\n",
       "  </tbody>\n",
       "</table>\n",
       "</div>"
      ],
      "text/plain": [
       "            Rating       Reviews         Size      Installs        Price  \\\n",
       "count  4770.000000  4.770000e+03  4770.000000  4.770000e+03  4770.000000   \n",
       "mean      4.134273  2.406055e+00    18.564294  4.070573e+00     0.625449   \n",
       "std       0.572699  1.582758e+00    20.366195  1.626136e+00     2.673604   \n",
       "min       1.000000  4.342945e-09     0.014000  4.342945e-09     0.000000   \n",
       "25%       4.000000  1.113943e+00     4.000000  3.000000e+00     0.000000   \n",
       "50%       4.200000  2.174639e+00    11.000000  4.000000e+00     0.000000   \n",
       "75%       4.500000  3.574494e+00    26.000000  5.000000e+00     0.000000   \n",
       "max       5.000000  7.396217e+00   100.000000  8.698970e+00    74.990000   \n",
       "\n",
       "       Category_All OTHER  Category_BUSINESS  Category_FAMILY  Category_GAME  \\\n",
       "count         4770.000000        4770.000000      4770.000000    4770.000000   \n",
       "mean             0.512788           0.050734         0.254717       0.110482   \n",
       "std              0.499889           0.219477         0.435748       0.313523   \n",
       "min              0.000000           0.000000         0.000000       0.000000   \n",
       "25%              0.000000           0.000000         0.000000       0.000000   \n",
       "50%              1.000000           0.000000         0.000000       0.000000   \n",
       "75%              1.000000           0.000000         1.000000       0.000000   \n",
       "max              1.000000           1.000000         1.000000       1.000000   \n",
       "\n",
       "       Category_MEDICAL  Category_PERSONALIZATION  \n",
       "count       4770.000000               4770.000000  \n",
       "mean           0.032285                  0.038994  \n",
       "std            0.176775                  0.193600  \n",
       "min            0.000000                  0.000000  \n",
       "25%            0.000000                  0.000000  \n",
       "50%            0.000000                  0.000000  \n",
       "75%            0.000000                  0.000000  \n",
       "max            1.000000                  1.000000  "
      ]
     },
     "execution_count": 174,
     "metadata": {},
     "output_type": "execute_result"
    }
   ],
   "source": [
    "subsetdf_NormalizedFinal    = subsetdf_NormalizedFinal[subsetdf_NormalizedFinal[\"Reviews\"] > 0]\n",
    "subsetdf_NormalizedFinal    = subsetdf_NormalizedFinal[subsetdf_NormalizedFinal[\"Installs\"] > 0]\n",
    "subsetdf_NormalizedFinal.describe()\n"
   ]
  },
  {
   "cell_type": "code",
   "execution_count": 175,
   "metadata": {
    "collapsed": false
   },
   "outputs": [],
   "source": [
    "# Bin Size Variable\n",
    "#subsetdf_NormalizedFinal['SizBucket'] = pd.cut(subsetdf_NormalizedFinal['Size'], bins= [0,20,40,80,100], labels=[\"LightWt\",\"MidWt\",\"Heavy\",\"Bulky\"]) \n",
    "#subsetdf_NormalizedFinal = pd.get_dummies(subsetdf_NormalizedFinal,columns=['SizBucket'])\n",
    "\n",
    "# Bin Rating Variable\n",
    "#subsetdf_NormalizedFinal['RateBucket'] = pd.cut(subsetdf_NormalizedFinal['Rating'], bins= [0.01,2.5,3.5,4.5,5], labels=[\"POOR\",\"AVERAGE\",\"GOOD\",\"EXCELLENT\"])   \n",
    "#subsetdf_NormalizedFinal = pd.get_dummies(subsetdf_NormalizedFinal,columns=['RateBucket'])\n",
    "\n",
    "# Bin Review Variable\n",
    "#subsetdf_NormalizedFinal['ReviewBucket'] = pd.cut(subsetdf_NormalizedFinal['Reviews'], bins= [0,3,5,6,10], labels=[\"LOW\",\"AVERAGE\",\"HIGH\",\"MATURE\"])   \n",
    "#subsetdf_NormalizedFinal = pd.get_dummies(subsetdf_NormalizedFinal,columns=['ReviewBucket'])\n",
    "\n",
    "# Bin installs \n",
    "#subsetdf_NormalizedFinal['InstallsBucket'] = pd.cut(subsetdf_NormalizedFinal['Installs'], bins= [0,3,5,6,10], labels=[\"LOW\",\"AVERAGE\",\"HIGH\",\"MATURE\"])   \n",
    "#subsetdf_NormalizedFinal = pd.get_dummies(subsetdf_NormalizedFinal,columns=['InstallsBucket'])\n",
    "\n"
   ]
  },
  {
   "cell_type": "code",
   "execution_count": 176,
   "metadata": {
    "collapsed": false
   },
   "outputs": [],
   "source": [
    "# Create a Binary target Variable\n",
    "TargetVar = []\n",
    "for k in range(0,len(subsetdf_NormalizedFinal)):\n",
    "    tempvar = 1\n",
    "    if subsetdf_NormalizedFinal.iloc[k].Type == 'Free' :   #Free Apps\n",
    "        tempvar = 0\n",
    "    TargetVar.append(tempvar)\n",
    "    \n",
    "# Drop Price and App Name\n",
    "subsetdf_NormalizedFinal = subsetdf_NormalizedFinal.drop(['App','Price','Type'],axis=1)    \n",
    "\n",
    "# Add Target Variable\n",
    "target_series = pd.Series(TargetVar)\n",
    "target_series.index = subsetdf_NormalizedFinal.index\n",
    "subsetdf_NormalizedFinal['TARGET'] = target_series"
   ]
  },
  {
   "cell_type": "code",
   "execution_count": 177,
   "metadata": {
    "collapsed": true
   },
   "outputs": [],
   "source": [
    "# Prepare Training and Testing Split Randomnly\n",
    "y = subsetdf_NormalizedFinal['TARGET'].values     # Output Target\n",
    "subsetdf_NormalizedFinal = subsetdf_NormalizedFinal.drop(['TARGET'],axis=1)\n",
    "train_x, test_x,train_y, test_y = train_test_split(subsetdf_NormalizedFinal,y,test_size = 0.20, random_state  = 42)"
   ]
  },
  {
   "cell_type": "code",
   "execution_count": 178,
   "metadata": {
    "collapsed": false
   },
   "outputs": [],
   "source": [
    "sm = SMOTE(random_state=42, ratio = 1.0)\n",
    "x_train_res, y_train_res = sm.fit_sample(train_x, train_y)"
   ]
  },
  {
   "cell_type": "code",
   "execution_count": 179,
   "metadata": {
    "collapsed": false
   },
   "outputs": [
    {
     "name": "stdout",
     "output_type": "stream",
     "text": [
      "(4770, 10)\n",
      "(3816, 10)\n",
      "529\n",
      "(954,)\n",
      "134\n",
      "(6574, 10)\n",
      "3287\n",
      "(954,)\n",
      "134\n"
     ]
    }
   ],
   "source": [
    "print(subsetdf_NormalizedFinal.shape)\n",
    "\n",
    "print(train_x.shape)\n",
    "print(np.sum(train_y))\n",
    "\n",
    "print(test_y.shape)\n",
    "print(np.sum(test_y))\n",
    "\n",
    "\n",
    "print(x_train_res.shape)\n",
    "print(np.sum(y_train_res))\n",
    "\n",
    "print(test_y.shape)\n",
    "print(np.sum(test_y))\n"
   ]
  },
  {
   "cell_type": "code",
   "execution_count": 180,
   "metadata": {
    "collapsed": false
   },
   "outputs": [
    {
     "name": "stdout",
     "output_type": "stream",
     "text": [
      "Dev Recall: 0.5671641791044776 , Dev Precision: 0.5507246376811594 ,param: 100\n",
      "Dev Recall: 0.5671641791044776 , Dev Precision: 0.5547445255474452 ,param: 110\n",
      "Dev Recall: 0.5671641791044776 , Dev Precision: 0.5588235294117647 ,param: 120\n",
      "Dev Recall: 0.5522388059701493 , Dev Precision: 0.5362318840579711 ,param: 130\n",
      "Dev Recall: 0.5895522388059702 , Dev Precision: 0.5642857142857143 ,param: 140\n",
      "Dev Recall: 0.582089552238806 , Dev Precision: 0.5531914893617021 ,param: 150\n",
      "Dev Recall: 0.5522388059701493 , Dev Precision: 0.5323741007194245 ,param: 160\n",
      "Dev Recall: 0.5597014925373134 , Dev Precision: 0.5357142857142857 ,param: 170\n",
      "Dev Recall: 0.5597014925373134 , Dev Precision: 0.5514705882352942 ,param: 180\n",
      "Dev Recall: 0.5671641791044776 , Dev Precision: 0.5547445255474452 ,param: 190\n"
     ]
    }
   ],
   "source": [
    "# Try Random Forest Algorithm and Pick the best Parameter based on dev dataset\n",
    "cs = np.arange(100, 200, 10)\n",
    "\n",
    "train_accuracy_list = list()\n",
    "dev_accuracy_list = list()\n",
    "\n",
    "dev_recall_list = list()\n",
    "dev_precision_list = list()\n",
    "dev_f1score_list = list()\n",
    "\n",
    "for c in cs:\n",
    "    model = RandomForestClassifier(bootstrap=True, class_weight=None, criterion='entropy',n_estimators = c)\n",
    "    model.fit(x_train_res,y_train_res)\n",
    "    train_preds = model.predict(x_train_res)\n",
    "    dev_preds   = model.predict(test_x)\n",
    "\n",
    "    (train_score, dev_score) = (accuracy_score(y_train_res, train_preds), accuracy_score(test_y, dev_preds))\n",
    "    \n",
    "    # Find Recall and Precision Scores  \n",
    "    train_score_r = recall_score(y_train_res, train_preds, pos_label=1, average=\"binary\")\n",
    "    train_score_p = precision_score(y_train_res, train_preds, pos_label=1, average=\"binary\")\n",
    "    \n",
    "    dev_score_r = recall_score(test_y, dev_preds, pos_label=1, average=\"binary\")\n",
    "    dev_score_p = precision_score(test_y, dev_preds, pos_label=1, average=\"binary\")\n",
    "    dev_f1score = f1_score(test_y, dev_preds, pos_label=1, average=\"binary\")\n",
    "    \n",
    "    # Collect Train and Dev Accuracy\n",
    "    train_accuracy_list.append(train_score)\n",
    "    dev_accuracy_list.append(dev_score)\n",
    "    \n",
    "    # Collect dev Precision and Recall \n",
    "    dev_recall_list.append(dev_score_r)\n",
    "    dev_precision_list.append(dev_score_p)\n",
    "    dev_f1score_list.append(dev_f1score)\n",
    "    \n",
    "    print(\"Dev Recall:\", dev_score_r, \", Dev Precision:\", dev_score_p, \",param:\", c)\n",
    "\n",
    "\n"
   ]
  },
  {
   "cell_type": "code",
   "execution_count": 181,
   "metadata": {
    "collapsed": true
   },
   "outputs": [],
   "source": [
    "clf = RandomForestClassifier(bootstrap=True, class_weight=None, criterion='entropy', n_estimators =150)\n",
    "clf = clf.fit(x_train_res, y_train_res)"
   ]
  },
  {
   "cell_type": "code",
   "execution_count": 182,
   "metadata": {
    "collapsed": true
   },
   "outputs": [],
   "source": [
    "# Run the Model with default settings\n",
    "train_preds = clf.predict(x_train_res)\n",
    "test_preds  = clf.predict(test_x)"
   ]
  },
  {
   "cell_type": "code",
   "execution_count": 183,
   "metadata": {
    "collapsed": false
   },
   "outputs": [
    {
     "name": "stdout",
     "output_type": "stream",
     "text": [
      "Train Recall: 1.0 , Train Precision: 1.0\n",
      "Dev Recall: 0.5746268656716418 , Dev Precision: 0.5539568345323741\n",
      "[[ 77.  62.]\n",
      " [ 57. 758.]]\n",
      "tp: 77 , fp: 62 , fn: 57 , tn: 758\n"
     ]
    }
   ],
   "source": [
    "# Find Recall and Precision Scores  \n",
    "train_score_r = recall_score(y_train_res, train_preds, pos_label=1, average=\"binary\")\n",
    "train_score_p = precision_score(y_train_res, train_preds, pos_label=1, average=\"binary\")\n",
    "    \n",
    "dev_score_r = recall_score(test_y, test_preds, pos_label=1, average=\"binary\")\n",
    "dev_score_p = precision_score(test_y, test_preds, pos_label=1, average=\"binary\")\n",
    "    \n",
    "#print(\"Train Accuracy:\", train_score, \", Dev Accuracy:\", dev_score)\n",
    "print(\"Train Recall:\", train_score_r, \", Train Precision:\", train_score_p)\n",
    "print(\"Dev Recall:\", dev_score_r, \", Dev Precision:\", dev_score_p)\n",
    "\n",
    "#print(\"AUC Score\")\n",
    "#print (roc_auc_score(test_y,dev_preds_GBM_Proba[:,1]))\n",
    "#AUC = roc_auc_score(test_y,dev_preds_GBM_Proba[:,1])\n",
    "#print(AUC)\n",
    "\n",
    "\n",
    "# Print Confusion Matrix for Performance Analysis\n",
    "cfmatrix = get_custom_confusionMatrix(test_preds,test_y.ravel())\n",
    "print(cfmatrix)\n",
    "print(\"tp:\", int(cfmatrix[0][0]), \", fp:\", int(cfmatrix[0][1]),\", fn:\", int(cfmatrix[1][0]),\", tn:\", int(cfmatrix[1][1]))"
   ]
  },
  {
   "cell_type": "code",
   "execution_count": null,
   "metadata": {
    "collapsed": true
   },
   "outputs": [],
   "source": [
    "\n",
    "\n",
    "\n",
    "\n",
    "\n"
   ]
  },
  {
   "cell_type": "code",
   "execution_count": 184,
   "metadata": {
    "collapsed": false
   },
   "outputs": [],
   "source": [
    "from sklearn.naive_bayes import GaussianNB\n",
    "\n",
    "\n",
    "gnb = GaussianNB()\n",
    "gnb.fit(x_train_res, y_train_res)\n",
    "\n",
    "# Run the Model with default settings\n",
    "train_preds = gnb.predict(x_train_res)\n",
    "test_preds  = gnb.predict(test_x)\n"
   ]
  },
  {
   "cell_type": "code",
   "execution_count": 185,
   "metadata": {
    "collapsed": false
   },
   "outputs": [
    {
     "name": "stdout",
     "output_type": "stream",
     "text": [
      "Train Recall: 0.6586553087922118 , Train Precision: 0.6288120824862039\n",
      "Dev Recall: 0.5149253731343284 , Dev Precision: 0.1751269035532995\n",
      "[[ 69. 325.]\n",
      " [ 65. 495.]]\n",
      "tp: 69 , fp: 325 , fn: 65 , tn: 495\n"
     ]
    }
   ],
   "source": [
    "# Find Recall and Precision Scores  \n",
    "train_score_r = recall_score(y_train_res, train_preds, pos_label=1, average=\"binary\")\n",
    "train_score_p = precision_score(y_train_res, train_preds, pos_label=1, average=\"binary\")\n",
    "    \n",
    "dev_score_r = recall_score(test_y, test_preds, pos_label=1, average=\"binary\")\n",
    "dev_score_p = precision_score(test_y, test_preds, pos_label=1, average=\"binary\")\n",
    "    \n",
    "#print(\"Train Accuracy:\", train_score, \", Dev Accuracy:\", dev_score)\n",
    "print(\"Train Recall:\", train_score_r, \", Train Precision:\", train_score_p)\n",
    "print(\"Dev Recall:\", dev_score_r, \", Dev Precision:\", dev_score_p)\n",
    "\n",
    "#print(\"AUC Score\")\n",
    "#print (roc_auc_score(test_y,dev_preds_GBM_Proba[:,1]))\n",
    "#AUC = roc_auc_score(test_y,dev_preds_GBM_Proba[:,1])\n",
    "#print(AUC)\n",
    "\n",
    "\n",
    "# Print Confusion Matrix for Performance Analysis\n",
    "cfmatrix = get_custom_confusionMatrix(test_preds,test_y.ravel())\n",
    "print(cfmatrix)\n",
    "print(\"tp:\", int(cfmatrix[0][0]), \", fp:\", int(cfmatrix[0][1]),\", fn:\", int(cfmatrix[1][0]),\", tn:\", int(cfmatrix[1][1]))"
   ]
  },
  {
   "cell_type": "code",
   "execution_count": null,
   "metadata": {
    "collapsed": true
   },
   "outputs": [],
   "source": []
  }
 ],
 "metadata": {
  "kernelspec": {
   "display_name": "Python 3",
   "language": "python",
   "name": "python3"
  },
  "language_info": {
   "codemirror_mode": {
    "name": "ipython",
    "version": 3
   },
   "file_extension": ".py",
   "mimetype": "text/x-python",
   "name": "python",
   "nbconvert_exporter": "python",
   "pygments_lexer": "ipython3",
   "version": "3.6.6"
  }
 },
 "nbformat": 4,
 "nbformat_minor": 2
}
