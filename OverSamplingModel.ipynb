{
 "cells": [
  {
   "cell_type": "code",
   "execution_count": 20,
   "metadata": {
    "collapsed": false
   },
   "outputs": [],
   "source": [
    "# Load Required Libraries\n",
    "%matplotlib inline \n",
    "import matplotlib.pyplot as plt\n",
    "import pandas as pd \n",
    "import numpy as np \n",
    "\n",
    "import seaborn as sns   # Heatmap plot\n",
    "from sklearn.preprocessing import LabelEncoder\n",
    "from sklearn.preprocessing import OneHotEncoder\n",
    "\n",
    "# Algorithm Models to import\n",
    "from sklearn.model_selection import train_test_split\n",
    "from sklearn.linear_model import LogisticRegression\n",
    "from sklearn.ensemble import RandomForestClassifier\n",
    "from sklearn.preprocessing import MinMaxScaler\n",
    "\n",
    "# All performance Metrics\n",
    "from sklearn.metrics import roc_auc_score,roc_curve\n",
    "from sklearn.metrics import accuracy_score\n",
    "from sklearn.metrics import recall_score\n",
    "from sklearn.metrics import precision_score\n",
    "from sklearn.metrics import f1_score\n",
    "from sklearn.metrics import average_precision_score\n",
    "from sklearn.metrics import precision_recall_curve\n",
    "from imblearn.over_sampling import SMOTE\n"
   ]
  },
  {
   "cell_type": "code",
   "execution_count": null,
   "metadata": {
    "collapsed": true
   },
   "outputs": [],
   "source": []
  },
  {
   "cell_type": "code",
   "execution_count": 37,
   "metadata": {
    "collapsed": true
   },
   "outputs": [],
   "source": [
    "# Get Error Type\n",
    "def get_error_type(pred, label):\n",
    "    # return the type of error: tp,fp,tn,fn\n",
    "    if pred == label:\n",
    "        return \"tp\" if pred == 1 else \"tn\"\n",
    "    return \"fp\" if pred == 1 else \"fn\"  \n",
    "\n",
    "# Custom function to get confusion Matrix     \n",
    "def get_custom_confusionMatrix(predicted, truelabel):\n",
    "    confusion_mat = np.zeros((2, 2))\n",
    "    \n",
    "    for k in range(0,len(predicted)):\n",
    "        val = get_error_type(predicted[k], truelabel[k])\n",
    "        if val == \"tp\":     \n",
    "            confusion_mat[0][0] = confusion_mat[0][0] + 1\n",
    "        elif val == \"fp\":     \n",
    "            confusion_mat[0][1] = confusion_mat[0][1] + 1\n",
    "        elif val == \"fn\":         \n",
    "            confusion_mat[1][0] = confusion_mat[1][0] + 1\n",
    "        else:\n",
    "            confusion_mat[1][1] = confusion_mat[1][1] + 1\n",
    "            \n",
    "    return(confusion_mat)             "
   ]
  },
  {
   "cell_type": "code",
   "execution_count": 21,
   "metadata": {
    "collapsed": true
   },
   "outputs": [],
   "source": [
    "def pandas2arff(df,filename,wekaname = \"pandasdata\",cleanstringdata=True,cleannan=True):\n",
    "    \"\"\"\n",
    "    converts the pandas dataframe to a weka compatible file\n",
    "    df: dataframe in pandas format\n",
    "    filename: the filename you want the weka compatible file to be in\n",
    "    wekaname: the name you want to give to the weka dataset (this will be visible to you when you open it in Weka)\n",
    "    cleanstringdata: clean up data which may have spaces and replace with \"_\", special characters etc which seem to annoy Weka. \n",
    "                     To suppress this, set this to False\n",
    "    cleannan: replaces all nan values with \"?\" which is Weka's standard for missing values. \n",
    "              To suppress this, set this to False\n",
    "    \"\"\"\n",
    "    import re\n",
    "    \n",
    "    def cleanstring(s):\n",
    "        if s!=\"?\":\n",
    "            return re.sub('[^A-Za-z0-9]+', \"_\", str(s))\n",
    "        else:\n",
    "            return \"?\"\n",
    "            \n",
    "    dfcopy = df #all cleaning operations get done on this copy\n",
    "\n",
    "    \n",
    "    if cleannan!=False:\n",
    "        dfcopy = dfcopy.fillna(-999999999) #this is so that we can swap this out for \"?\"\n",
    "        #this makes sure that certain numerical columns with missing values don't get stuck with \"object\" type\n",
    " \n",
    "    f = open(filename,\"w\")\n",
    "    arffList = []\n",
    "    arffList.append(\"@relation \" + wekaname + \"\\n\")\n",
    "    #look at each column's dtype. If it's an \"object\", make it \"nominal\" under Weka for now (can be changed in source for dates.. etc)\n",
    "    for i in range(df.shape[1]):\n",
    "        if dfcopy.dtypes[i]=='O' or (df.columns[i] in [\"Class\",\"CLASS\",\"class\"]):\n",
    "            if cleannan!=False:\n",
    "                dfcopy.iloc[:,i] = dfcopy.iloc[:,i].replace(to_replace=-999999999, value=\"?\")\n",
    "            if cleanstringdata!=False:\n",
    "                dfcopy.iloc[:,i] = dfcopy.iloc[:,i].apply(cleanstring)\n",
    "            _uniqueNominalVals = [str(_i) for _i in np.unique(dfcopy.iloc[:,i])]\n",
    "            _uniqueNominalVals = \",\".join(_uniqueNominalVals)\n",
    "            _uniqueNominalVals = _uniqueNominalVals.replace(\"[\",\"\")\n",
    "            _uniqueNominalVals = _uniqueNominalVals.replace(\"]\",\"\")\n",
    "            _uniqueValuesString = \"{\" + _uniqueNominalVals +\"}\" \n",
    "            arffList.append(\"@attribute \" + df.columns[i] + _uniqueValuesString + \"\\n\")\n",
    "        else:\n",
    "            arffList.append(\"@attribute \" + df.columns[i] + \" real\\n\") \n",
    "            #even if it is an integer, let's just deal with it as a real number for now\n",
    "    arffList.append(\"@data\\n\")           \n",
    "    for i in range(dfcopy.shape[0]):#instances\n",
    "        _instanceString = \"\"\n",
    "        for j in range(df.shape[1]):#features\n",
    "                if dfcopy.dtypes[j]=='O':\n",
    "                    _instanceString+=\"\\\"\" + str(dfcopy.iloc[i,j]) + \"\\\"\"\n",
    "                else:\n",
    "                    _instanceString+=str(dfcopy.iloc[i,j])\n",
    "                if j!=dfcopy.shape[1]-1:#if it's not the last feature, add a comma\n",
    "                    _instanceString+=\",\"\n",
    "        _instanceString+=\"\\n\"\n",
    "        if cleannan!=False:\n",
    "            _instanceString = _instanceString.replace(\"-999999999.0\",\"?\") #for numeric missing values\n",
    "            _instanceString = _instanceString.replace(\"\\\"?\\\"\",\"?\") #for categorical missing values\n",
    "        arffList.append(_instanceString)\n",
    "    f.writelines(arffList)\n",
    "    f.close()\n",
    "    del dfcopy\n",
    "    return True"
   ]
  },
  {
   "cell_type": "code",
   "execution_count": 22,
   "metadata": {
    "collapsed": true
   },
   "outputs": [],
   "source": [
    "# Read Dataset csv file \n",
    "rawdataset = pd.read_excel('Algodevelop\\CleanupAlgoDevData.xlsx', sheetname='Sheet1')"
   ]
  },
  {
   "cell_type": "code",
   "execution_count": 23,
   "metadata": {
    "collapsed": false
   },
   "outputs": [
    {
     "name": "stdout",
     "output_type": "stream",
     "text": [
      "(8902, 8)\n",
      "(734, 8)\n"
     ]
    }
   ],
   "source": [
    "# Handle imbalanced data\n",
    "subsetdf_Target0 = rawdataset[rawdataset['Type'] == 'Free']\n",
    "subsetdf_Target1 = rawdataset[rawdataset['Type'] == 'Paid']\n",
    "\n",
    "# Print Lenghts to determine downsampling\n",
    "print(subsetdf_Target0.shape)\n",
    "print(subsetdf_Target1.shape)\n",
    "\n"
   ]
  },
  {
   "cell_type": "code",
   "execution_count": 24,
   "metadata": {
    "collapsed": true
   },
   "outputs": [],
   "source": [
    "itemstodrop = 4400\n",
    "\n",
    "indextodrop = np.random.permutation(itemstodrop)\n",
    "subsetdf_Target0 = subsetdf_Target0.drop(subsetdf_Target0.index[indextodrop],axis='rows')\n",
    "frames = [subsetdf_Target0, subsetdf_Target1]\n",
    "subsetdf_NormalizedFinal = pd.concat(frames)"
   ]
  },
  {
   "cell_type": "code",
   "execution_count": 25,
   "metadata": {
    "collapsed": false
   },
   "outputs": [],
   "source": [
    "# Create a Binary target Variable\n",
    "TargetVar = []\n",
    "for k in range(0,len(subsetdf_NormalizedFinal)):\n",
    "    tempvar = 1\n",
    "    if subsetdf_NormalizedFinal.iloc[k].Type == 'Free' :   #Free Apps\n",
    "        tempvar = 0\n",
    "    TargetVar.append(tempvar)\n",
    "    \n",
    "# Drop Price and App Name\n",
    "subsetdf_NormalizedFinal = subsetdf_NormalizedFinal.drop(['App','Price','Type'],axis=1)    \n",
    "\n",
    "# Add Target Variable\n",
    "target_series = pd.Series(TargetVar)\n",
    "target_series.index = subsetdf_NormalizedFinal.index\n",
    "subsetdf_NormalizedFinal['TARGET'] = target_series"
   ]
  },
  {
   "cell_type": "code",
   "execution_count": 26,
   "metadata": {
    "collapsed": true
   },
   "outputs": [],
   "source": [
    "subsetdf_NormalizedFinal = pd.get_dummies(subsetdf_NormalizedFinal,columns=['Category'])"
   ]
  },
  {
   "cell_type": "code",
   "execution_count": 27,
   "metadata": {
    "collapsed": true
   },
   "outputs": [],
   "source": [
    "# Prepare Training and Testing Split Randomnly\n",
    "y = subsetdf_NormalizedFinal['TARGET'].values     # Output Target\n",
    "subsetdf_NormalizedFinal = subsetdf_NormalizedFinal.drop(['TARGET'],axis=1)\n",
    "train_x, test_x,train_y, test_y = train_test_split(subsetdf_NormalizedFinal,y,test_size = 0.20, random_state  = 42)\n"
   ]
  },
  {
   "cell_type": "code",
   "execution_count": 69,
   "metadata": {
    "collapsed": false
   },
   "outputs": [
    {
     "name": "stdout",
     "output_type": "stream",
     "text": [
      "(5236, 37)\n"
     ]
    }
   ],
   "source": [
    "print(subsetdf_NormalizedFinal.shape)"
   ]
  },
  {
   "cell_type": "code",
   "execution_count": 28,
   "metadata": {
    "collapsed": false
   },
   "outputs": [],
   "source": [
    "sm = SMOTE(random_state=42, ratio = 1.0)\n",
    "x_train_res, y_train_res = sm.fit_sample(train_x, train_y)"
   ]
  },
  {
   "cell_type": "code",
   "execution_count": 33,
   "metadata": {
    "collapsed": false
   },
   "outputs": [
    {
     "name": "stdout",
     "output_type": "stream",
     "text": [
      "(4188, 37)\n",
      "(7206, 37)\n",
      "585\n",
      "3603\n"
     ]
    }
   ],
   "source": [
    "print(train_x.shape)\n",
    "print(x_train_res.shape)\n",
    "\n",
    "print(np.sum(train_y))\n",
    "print(np.sum(y_train_res))"
   ]
  },
  {
   "cell_type": "code",
   "execution_count": 68,
   "metadata": {
    "collapsed": false
   },
   "outputs": [
    {
     "name": "stdout",
     "output_type": "stream",
     "text": [
      "(7206, 37)\n",
      "3603\n",
      "(1048,)\n",
      "149\n"
     ]
    }
   ],
   "source": [
    "print(x_train_res.shape)\n",
    "print(np.sum(y_train_res))\n",
    "\n",
    "print(test_y.shape)\n",
    "print(np.sum(test_y))\n",
    "\n"
   ]
  },
  {
   "cell_type": "code",
   "execution_count": 44,
   "metadata": {
    "collapsed": true
   },
   "outputs": [],
   "source": [
    "from sklearn import tree\n",
    "clf = tree.DecisionTreeClassifier(random_state=0)\n",
    "clf = clf.fit(x_train_res, y_train_res)\n"
   ]
  },
  {
   "cell_type": "code",
   "execution_count": 45,
   "metadata": {
    "collapsed": true
   },
   "outputs": [],
   "source": [
    "# Run the Model with default settings\n",
    "train_preds = clf.predict(x_train_res)\n",
    "test_preds  = clf.predict(test_x)\n"
   ]
  },
  {
   "cell_type": "code",
   "execution_count": null,
   "metadata": {
    "collapsed": true
   },
   "outputs": [],
   "source": []
  },
  {
   "cell_type": "code",
   "execution_count": 46,
   "metadata": {
    "collapsed": false
   },
   "outputs": [
    {
     "name": "stdout",
     "output_type": "stream",
     "text": [
      "Train Recall: 0.9994449070219261 , Train Precision: 1.0\n",
      "Dev Recall: 0.5704697986577181 , Dev Precision: 0.5\n",
      "[[ 85.  85.]\n",
      " [ 64. 814.]]\n",
      "tp: 85 , fp: 85 , fn: 64 , tn: 814\n"
     ]
    }
   ],
   "source": [
    "# Find Recall and Precision Scores  \n",
    "train_score_r = recall_score(y_train_res, train_preds, pos_label=1, average=\"binary\")\n",
    "train_score_p = precision_score(y_train_res, train_preds, pos_label=1, average=\"binary\")\n",
    "    \n",
    "dev_score_r = recall_score(test_y, test_preds, pos_label=1, average=\"binary\")\n",
    "dev_score_p = precision_score(test_y, test_preds, pos_label=1, average=\"binary\")\n",
    "    \n",
    "#print(\"Train Accuracy:\", train_score, \", Dev Accuracy:\", dev_score)\n",
    "print(\"Train Recall:\", train_score_r, \", Train Precision:\", train_score_p)\n",
    "print(\"Dev Recall:\", dev_score_r, \", Dev Precision:\", dev_score_p)\n",
    "\n",
    "#print(\"AUC Score\")\n",
    "#print (roc_auc_score(test_y,dev_preds_GBM_Proba[:,1]))\n",
    "#AUC = roc_auc_score(test_y,dev_preds_GBM_Proba[:,1])\n",
    "#print(AUC)\n",
    "\n",
    "\n",
    "# Print Confusion Matrix for Performance Analysis\n",
    "cfmatrix = get_custom_confusionMatrix(test_preds,test_y.ravel())\n",
    "print(cfmatrix)\n",
    "print(\"tp:\", int(cfmatrix[0][0]), \", fp:\", int(cfmatrix[0][1]),\", fn:\", int(cfmatrix[1][0]),\", tn:\", int(cfmatrix[1][1]))"
   ]
  },
  {
   "cell_type": "code",
   "execution_count": 59,
   "metadata": {
    "collapsed": true
   },
   "outputs": [],
   "source": [
    "clf = RandomForestClassifier(bootstrap=True, class_weight=None, criterion='entropy', n_estimators =140)\n",
    "clf = clf.fit(x_train_res, y_train_res)\n"
   ]
  },
  {
   "cell_type": "code",
   "execution_count": 60,
   "metadata": {
    "collapsed": true
   },
   "outputs": [],
   "source": [
    "# Run the Model with default settings\n",
    "train_preds = clf.predict(x_train_res)\n",
    "test_preds  = clf.predict(test_x)\n"
   ]
  },
  {
   "cell_type": "code",
   "execution_count": 61,
   "metadata": {
    "collapsed": false
   },
   "outputs": [
    {
     "name": "stdout",
     "output_type": "stream",
     "text": [
      "Train Recall: 0.9997224535109631 , Train Precision: 0.9997224535109631\n",
      "Dev Recall: 0.44966442953020136 , Dev Precision: 0.6767676767676768\n",
      "[[ 67.  32.]\n",
      " [ 82. 867.]]\n",
      "tp: 67 , fp: 32 , fn: 82 , tn: 867\n"
     ]
    }
   ],
   "source": [
    "# Find Recall and Precision Scores  \n",
    "train_score_r = recall_score(y_train_res, train_preds, pos_label=1, average=\"binary\")\n",
    "train_score_p = precision_score(y_train_res, train_preds, pos_label=1, average=\"binary\")\n",
    "    \n",
    "dev_score_r = recall_score(test_y, test_preds, pos_label=1, average=\"binary\")\n",
    "dev_score_p = precision_score(test_y, test_preds, pos_label=1, average=\"binary\")\n",
    "    \n",
    "#print(\"Train Accuracy:\", train_score, \", Dev Accuracy:\", dev_score)\n",
    "print(\"Train Recall:\", train_score_r, \", Train Precision:\", train_score_p)\n",
    "print(\"Dev Recall:\", dev_score_r, \", Dev Precision:\", dev_score_p)\n",
    "\n",
    "#print(\"AUC Score\")\n",
    "#print (roc_auc_score(test_y,dev_preds_GBM_Proba[:,1]))\n",
    "#AUC = roc_auc_score(test_y,dev_preds_GBM_Proba[:,1])\n",
    "#print(AUC)\n",
    "\n",
    "\n",
    "# Print Confusion Matrix for Performance Analysis\n",
    "cfmatrix = get_custom_confusionMatrix(test_preds,test_y.ravel())\n",
    "print(cfmatrix)\n",
    "print(\"tp:\", int(cfmatrix[0][0]), \", fp:\", int(cfmatrix[0][1]),\", fn:\", int(cfmatrix[1][0]),\", tn:\", int(cfmatrix[1][1]))"
   ]
  },
  {
   "cell_type": "code",
   "execution_count": 70,
   "metadata": {
    "collapsed": false
   },
   "outputs": [
    {
     "ename": "AttributeError",
     "evalue": "'numpy.ndarray' object has no attribute 'sort_values'",
     "output_type": "error",
     "traceback": [
      "\u001b[0;31m---------------------------------------------------------------------------\u001b[0m",
      "\u001b[0;31mAttributeError\u001b[0m                            Traceback (most recent call last)",
      "\u001b[0;32m<ipython-input-70-425111d318d8>\u001b[0m in \u001b[0;36m<module>\u001b[0;34m()\u001b[0m\n\u001b[1;32m      9\u001b[0m \u001b[0mplt\u001b[0m\u001b[1;33m.\u001b[0m\u001b[0mylabel\u001b[0m\u001b[1;33m(\u001b[0m\u001b[1;34m'Feature Importance Score'\u001b[0m\u001b[1;33m)\u001b[0m\u001b[1;33m\u001b[0m\u001b[0m\n\u001b[1;32m     10\u001b[0m \u001b[1;33m\u001b[0m\u001b[0m\n\u001b[0;32m---> 11\u001b[0;31m \u001b[0mmodel\u001b[0m\u001b[1;33m.\u001b[0m\u001b[0mfeature_importances_\u001b[0m\u001b[1;33m.\u001b[0m\u001b[0msort_values\u001b[0m\u001b[1;33m(\u001b[0m\u001b[0mascending\u001b[0m\u001b[1;33m=\u001b[0m\u001b[1;32mFalse\u001b[0m\u001b[1;33m)\u001b[0m\u001b[1;33m\u001b[0m\u001b[0m\n\u001b[0m",
      "\u001b[0;31mAttributeError\u001b[0m: 'numpy.ndarray' object has no attribute 'sort_values'"
     ]
    },
    {
     "data": {
      "image/png": "[encoded data removed]",
      "text/plain": [
       "<matplotlib.figure.Figure at 0x2686beb8>"
      ]
     },
     "metadata": {},
     "output_type": "display_data"
    }
   ],
   "source": [
    "UnsortedNames = []\n",
    "for col in subsetdf_NormalizedFinal.columns:\n",
    "    UnsortedNames.append(col[0:20])\n",
    "\n",
    "\n",
    "#Print Feature Importance:\n",
    "feat_imp = pd.Series(model.feature_importances_, UnsortedNames).sort_values(ascending=False)\n",
    "feat_imp.plot(kind='bar', title='Feature Importances')\n",
    "plt.ylabel('Feature Importance Score')\n",
    "\n",
    "model.feature_importances_.sort_values(ascending=False)"
   ]
  },
  {
   "cell_type": "code",
   "execution_count": 58,
   "metadata": {
    "collapsed": false
   },
   "outputs": [
    {
     "name": "stdout",
     "output_type": "stream",
     "text": [
      "Dev Recall: 0.4966442953020134 , Dev Precision: 0.6548672566371682 ,param: 140\n",
      "Dev Recall: 0.4899328859060403 , Dev Precision: 0.6460176991150443 ,param: 145\n",
      "Dev Recall: 0.47651006711409394 , Dev Precision: 0.6513761467889908 ,param: 150\n",
      "Dev Recall: 0.4697986577181208 , Dev Precision: 0.6422018348623854 ,param: 155\n",
      "Dev Recall: 0.4563758389261745 , Dev Precision: 0.6355140186915887 ,param: 160\n",
      "Dev Recall: 0.48322147651006714 , Dev Precision: 0.6428571428571429 ,param: 165\n",
      "Dev Recall: 0.4697986577181208 , Dev Precision: 0.6422018348623854 ,param: 170\n",
      "Dev Recall: 0.5033557046979866 , Dev Precision: 0.646551724137931 ,param: 175\n"
     ]
    },
    {
     "ename": "NameError",
     "evalue": "name 'plot_TrainTestAccuracy' is not defined",
     "output_type": "error",
     "traceback": [
      "\u001b[0;31m---------------------------------------------------------------------------\u001b[0m",
      "\u001b[0;31mNameError\u001b[0m                                 Traceback (most recent call last)",
      "\u001b[0;32m<ipython-input-58-a938080f1cc4>\u001b[0m in \u001b[0;36m<module>\u001b[0;34m()\u001b[0m\n\u001b[1;32m     39\u001b[0m \u001b[1;33m\u001b[0m\u001b[0m\n\u001b[1;32m     40\u001b[0m \u001b[1;31m# Plot Train, Test Accuracy; Test set Precision and Recall scores\u001b[0m\u001b[1;33m\u001b[0m\u001b[1;33m\u001b[0m\u001b[0m\n\u001b[0;32m---> 41\u001b[0;31m \u001b[0mplot_TrainTestAccuracy\u001b[0m\u001b[1;33m(\u001b[0m\u001b[0mcs\u001b[0m\u001b[1;33m,\u001b[0m \u001b[0mtrain_accuracy_list\u001b[0m\u001b[1;33m,\u001b[0m \u001b[0mdev_accuracy_list\u001b[0m\u001b[1;33m)\u001b[0m\u001b[1;33m\u001b[0m\u001b[0m\n\u001b[0m\u001b[1;32m     42\u001b[0m \u001b[0mplot_PrecisionRecall\u001b[0m\u001b[1;33m(\u001b[0m\u001b[0mcs\u001b[0m\u001b[1;33m,\u001b[0m\u001b[0mdev_precision_list\u001b[0m\u001b[1;33m,\u001b[0m \u001b[0mdev_recall_list\u001b[0m\u001b[1;33m)\u001b[0m\u001b[1;33m\u001b[0m\u001b[0m\n",
      "\u001b[0;31mNameError\u001b[0m: name 'plot_TrainTestAccuracy' is not defined"
     ]
    }
   ],
   "source": [
    "# Try Random Forest Algorithm and Pick the best Parameter based on dev dataset\n",
    "cs = np.arange(140, 180, 5)\n",
    "\n",
    "train_accuracy_list = list()\n",
    "dev_accuracy_list = list()\n",
    "\n",
    "dev_recall_list = list()\n",
    "dev_precision_list = list()\n",
    "dev_f1score_list = list()\n",
    "\n",
    "for c in cs:\n",
    "    model = RandomForestClassifier(bootstrap=True, class_weight=None, criterion='entropy',n_estimators = c)\n",
    "    model.fit(x_train_res,y_train_res)\n",
    "    train_preds = model.predict(x_train_res)\n",
    "    dev_preds   = model.predict(test_x)\n",
    "\n",
    "    (train_score, dev_score) = (accuracy_score(y_train_res, train_preds), accuracy_score(test_y, dev_preds))\n",
    "    \n",
    "    # Find Recall and Precision Scores  \n",
    "    train_score_r = recall_score(y_train_res, train_preds, pos_label=1, average=\"binary\")\n",
    "    train_score_p = precision_score(y_train_res, train_preds, pos_label=1, average=\"binary\")\n",
    "    \n",
    "    dev_score_r = recall_score(test_y, dev_preds, pos_label=1, average=\"binary\")\n",
    "    dev_score_p = precision_score(test_y, dev_preds, pos_label=1, average=\"binary\")\n",
    "    dev_f1score = f1_score(test_y, dev_preds, pos_label=1, average=\"binary\")\n",
    "    \n",
    "    # Collect Train and Dev Accuracy\n",
    "    train_accuracy_list.append(train_score)\n",
    "    dev_accuracy_list.append(dev_score)\n",
    "    \n",
    "    # Collect dev Precision and Recall \n",
    "    dev_recall_list.append(dev_score_r)\n",
    "    dev_precision_list.append(dev_score_p)\n",
    "    dev_f1score_list.append(dev_f1score)\n",
    "    \n",
    "  #  print(\"Train Accuracy:\", train_score, \", Dev Accuracy:\", dev_score, \",param:\", c)\n",
    "  #  print(\"Train Recall:\", train_score_r, \", Train Precision:\", train_score_p, \",param:\", c)\n",
    "    print(\"Dev Recall:\", dev_score_r, \", Dev Precision:\", dev_score_p, \",param:\", c)\n",
    "\n",
    "# Plot Train, Test Accuracy; Test set Precision and Recall scores\n",
    "plot_TrainTestAccuracy(cs, train_accuracy_list, dev_accuracy_list)\n",
    "plot_PrecisionRecall(cs,dev_precision_list, dev_recall_list)"
   ]
  },
  {
   "cell_type": "code",
   "execution_count": null,
   "metadata": {
    "collapsed": true
   },
   "outputs": [],
   "source": []
  }
 ],
 "metadata": {
  "kernelspec": {
   "display_name": "Python 3",
   "language": "python",
   "name": "python3"
  },
  "language_info": {
   "codemirror_mode": {
    "name": "ipython",
    "version": 3
   },
   "file_extension": ".py",
   "mimetype": "text/x-python",
   "name": "python",
   "nbconvert_exporter": "python",
   "pygments_lexer": "ipython3",
   "version": "3.6.6"
  }
 },
 "nbformat": 4,
 "nbformat_minor": 2
}
